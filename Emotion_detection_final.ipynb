{
  "nbformat": 4,
  "nbformat_minor": 0,
  "metadata": {
    "colab": {
      "name": "Emotion_detection_final.ipynb",
      "provenance": [],
      "collapsed_sections": []
    },
    "kernelspec": {
      "name": "python3",
      "display_name": "Python 3"
    },
    "accelerator": "GPU"
  },
  "cells": [
    {
      "cell_type": "code",
      "metadata": {
        "id": "8oFAxQlSfesQ",
        "colab_type": "code",
        "colab": {
          "base_uri": "https://localhost:8080/",
          "height": 122
        },
        "outputId": "fef48fda-6136-40af-9fdd-3d41b55628c4"
      },
      "source": [
        "from google.colab import drive\n",
        "drive.mount('/content/drive')"
      ],
      "execution_count": null,
      "outputs": [
        {
          "output_type": "stream",
          "text": [
            "Go to this URL in a browser: https://accounts.google.com/o/oauth2/auth?client_id=947318989803-6bn6qk8qdgf4n4g3pfee6491hc0brc4i.apps.googleusercontent.com&redirect_uri=urn%3aietf%3awg%3aoauth%3a2.0%3aoob&scope=email%20https%3a%2f%2fwww.googleapis.com%2fauth%2fdocs.test%20https%3a%2f%2fwww.googleapis.com%2fauth%2fdrive%20https%3a%2f%2fwww.googleapis.com%2fauth%2fdrive.photos.readonly%20https%3a%2f%2fwww.googleapis.com%2fauth%2fpeopleapi.readonly&response_type=code\n",
            "\n",
            "Enter your authorization code:\n",
            "··········\n",
            "Mounted at /content/drive\n"
          ],
          "name": "stdout"
        }
      ]
    },
    {
      "cell_type": "code",
      "metadata": {
        "id": "YUIkBT0QHaRs",
        "colab_type": "code",
        "colab": {
          "base_uri": "https://localhost:8080/",
          "height": 51
        },
        "outputId": "88466ed0-443b-491d-e12a-0ac898010220"
      },
      "source": [
        "import numpy as np\n",
        "import argparse\n",
        "import matplotlib.pyplot as plt\n",
        "import cv2\n",
        "from tensorflow.keras.models import Sequential\n",
        "from tensorflow.keras.layers import Dense, Dropout, Flatten\n",
        "from tensorflow.keras.layers import Conv2D\n",
        "from tensorflow.keras.optimizers import Adam\n",
        "from tensorflow.keras.layers import MaxPooling2D\n",
        "from keras.regularizers import l2\n",
        "from keras.layers.normalization import BatchNormalization\n",
        "from tensorflow.keras.preprocessing.image import ImageDataGenerator\n",
        "import os\n",
        "os.environ['TF_CPP_MIN_LOG_LEVEL'] = '2'\n",
        "\n",
        "# plots accuracy and loss curves\n",
        "def plot_model_history(model_history):\n",
        "    \"\"\"\n",
        "    Plot Accuracy and Loss curves given the model_history\n",
        "    \"\"\"\n",
        "    fig, axs = plt.subplots(1,2,figsize=(15,5))\n",
        "    # summarize history for accuracy\n",
        "    axs[0].plot(range(1,len(model_history.history['accuracy'])+1),model_history.history['accuracy'])\n",
        "    axs[0].plot(range(1,len(model_history.history['val_accuracy'])+1),model_history.history['val_accuracy'])\n",
        "    axs[0].set_title('Model Accuracy')\n",
        "    axs[0].set_ylabel('Accuracy')\n",
        "    axs[0].set_xlabel('Epoch')\n",
        "    axs[0].set_xticks(np.arange(1,len(model_history.history['accuracy'])+1),len(model_history.history['accuracy'])/10)\n",
        "    axs[0].legend(['train', 'val'], loc='best')\n",
        "    # summarize history for loss\n",
        "    axs[1].plot(range(1,len(model_history.history['loss'])+1),model_history.history['loss'])\n",
        "    axs[1].plot(range(1,len(model_history.history['val_loss'])+1),model_history.history['val_loss'])\n",
        "    axs[1].set_title('Model Loss')\n",
        "    axs[1].set_ylabel('Loss')\n",
        "    axs[1].set_xlabel('Epoch')\n",
        "    axs[1].set_xticks(np.arange(1,len(model_history.history['loss'])+1),len(model_history.history['loss'])/10)\n",
        "    axs[1].legend(['train', 'val'], loc='best')\n",
        "    fig.savefig('plot.png')\n",
        "    plt.show()\n",
        "\n",
        "# Define data generators\n",
        "train_dir = 'drive/My Drive/data/train'\n",
        "val_dir = 'drive/My Drive/data/test'\n",
        "\n",
        "num_train = 28709\n",
        "num_val = 7178\n",
        "batch_size = 64\n",
        "num_epoch = 50\n",
        "\n",
        "train_datagen = ImageDataGenerator(rescale=1./255)\n",
        "val_datagen = ImageDataGenerator(rescale=1./255)\n",
        "\n",
        "train_generator = train_datagen.flow_from_directory(\n",
        "        train_dir,\n",
        "        target_size=(48,48),\n",
        "        batch_size=batch_size,\n",
        "        color_mode=\"grayscale\",\n",
        "        class_mode='categorical')\n",
        "\n",
        "validation_generator = val_datagen.flow_from_directory(\n",
        "        val_dir,\n",
        "        target_size=(48,48),\n",
        "        batch_size=batch_size,\n",
        "        color_mode=\"grayscale\",\n",
        "        class_mode='categorical')\n",
        "\n",
        "# Create the model\n",
        "model = Sequential()\n",
        "\n",
        "\n",
        "model.add(Conv2D(32, kernel_size=(3, 3), activation='relu', input_shape=(48,48,1)))\n",
        "model.add(Conv2D(64, kernel_size=(3, 3), activation='relu'))\n",
        "model.add(MaxPooling2D(pool_size=(2, 2)))\n",
        "model.add(Dropout(0.25))\n",
        "\n",
        "model.add(Conv2D(128, kernel_size=(3, 3), activation='relu'))\n",
        "model.add(MaxPooling2D(pool_size=(2, 2)))\n",
        "model.add(Conv2D(128, kernel_size=(3, 3), activation='relu'))\n",
        "model.add(MaxPooling2D(pool_size=(2, 2)))\n",
        "model.add(Dropout(0.25))\n",
        "\n",
        "model.add(Flatten())\n",
        "model.add(Dense(1024, activation='relu'))\n",
        "model.add(Dropout(0.5))\n",
        "model.add(Dense(7, activation='softmax'))\n",
        "\n",
        "\n"
      ],
      "execution_count": null,
      "outputs": [
        {
          "output_type": "stream",
          "text": [
            "Found 28709 images belonging to 7 classes.\n",
            "Found 7178 images belonging to 7 classes.\n"
          ],
          "name": "stdout"
        }
      ]
    },
    {
      "cell_type": "code",
      "metadata": {
        "id": "Hsag5nUoI0C3",
        "colab_type": "code",
        "colab": {
          "base_uri": "https://localhost:8080/",
          "height": 1000
        },
        "outputId": "6829c293-5e93-48a0-bfa5-0fbf87ecdb44"
      },
      "source": [
        "model.compile(loss='categorical_crossentropy',optimizer=Adam(lr=0.0001, decay=1e-6),metrics=['accuracy'])\n",
        "model_info = model.fit(\n",
        "        train_generator,\n",
        "        steps_per_epoch=num_train // batch_size,\n",
        "        epochs=num_epoch,\n",
        "        validation_data=validation_generator,\n",
        "        validation_steps=num_val // batch_size)\n",
        "plot_model_history(model_info)\n",
        "model.save_weights('drive/My Drive/model.h5')\n"
      ],
      "execution_count": null,
      "outputs": [
        {
          "output_type": "stream",
          "text": [
            "Epoch 1/50\n",
            "448/448 [==============================] - 15200s 34s/step - loss: 1.7919 - accuracy: 0.2630 - val_loss: 1.6769 - val_accuracy: 0.3553\n",
            "Epoch 2/50\n",
            "448/448 [==============================] - 40s 90ms/step - loss: 1.6236 - accuracy: 0.3666 - val_loss: 1.5519 - val_accuracy: 0.3955\n",
            "Epoch 3/50\n",
            "448/448 [==============================] - 39s 87ms/step - loss: 1.5296 - accuracy: 0.4112 - val_loss: 1.4643 - val_accuracy: 0.4396\n",
            "Epoch 4/50\n",
            "448/448 [==============================] - 39s 87ms/step - loss: 1.4532 - accuracy: 0.4462 - val_loss: 1.4246 - val_accuracy: 0.4618\n",
            "Epoch 5/50\n",
            "448/448 [==============================] - 39s 86ms/step - loss: 1.3980 - accuracy: 0.4677 - val_loss: 1.3548 - val_accuracy: 0.4794\n",
            "Epoch 6/50\n",
            "448/448 [==============================] - 39s 86ms/step - loss: 1.3446 - accuracy: 0.4905 - val_loss: 1.3131 - val_accuracy: 0.4986\n",
            "Epoch 7/50\n",
            "448/448 [==============================] - 38s 85ms/step - loss: 1.2967 - accuracy: 0.5087 - val_loss: 1.2780 - val_accuracy: 0.5107\n",
            "Epoch 8/50\n",
            "448/448 [==============================] - 38s 84ms/step - loss: 1.2582 - accuracy: 0.5225 - val_loss: 1.2667 - val_accuracy: 0.5113\n",
            "Epoch 9/50\n",
            "448/448 [==============================] - 41s 91ms/step - loss: 1.2258 - accuracy: 0.5393 - val_loss: 1.2309 - val_accuracy: 0.5251\n",
            "Epoch 10/50\n",
            "448/448 [==============================] - 41s 91ms/step - loss: 1.1921 - accuracy: 0.5491 - val_loss: 1.2137 - val_accuracy: 0.5372\n",
            "Epoch 11/50\n",
            "448/448 [==============================] - 39s 86ms/step - loss: 1.1688 - accuracy: 0.5582 - val_loss: 1.1928 - val_accuracy: 0.5448\n",
            "Epoch 12/50\n",
            "448/448 [==============================] - 38s 86ms/step - loss: 1.1388 - accuracy: 0.5721 - val_loss: 1.1779 - val_accuracy: 0.5504\n",
            "Epoch 13/50\n",
            "448/448 [==============================] - 38s 85ms/step - loss: 1.1127 - accuracy: 0.5865 - val_loss: 1.1643 - val_accuracy: 0.5551\n",
            "Epoch 14/50\n",
            "448/448 [==============================] - 38s 84ms/step - loss: 1.0897 - accuracy: 0.5925 - val_loss: 1.1566 - val_accuracy: 0.5562\n",
            "Epoch 15/50\n",
            "448/448 [==============================] - 38s 85ms/step - loss: 1.0662 - accuracy: 0.6035 - val_loss: 1.1422 - val_accuracy: 0.5650\n",
            "Epoch 16/50\n",
            "448/448 [==============================] - 38s 84ms/step - loss: 1.0404 - accuracy: 0.6119 - val_loss: 1.1322 - val_accuracy: 0.5670\n",
            "Epoch 17/50\n",
            "448/448 [==============================] - 38s 86ms/step - loss: 1.0165 - accuracy: 0.6221 - val_loss: 1.1214 - val_accuracy: 0.5749\n",
            "Epoch 18/50\n",
            "448/448 [==============================] - 38s 85ms/step - loss: 0.9919 - accuracy: 0.6340 - val_loss: 1.1253 - val_accuracy: 0.5753\n",
            "Epoch 19/50\n",
            "448/448 [==============================] - 38s 85ms/step - loss: 0.9668 - accuracy: 0.6438 - val_loss: 1.1159 - val_accuracy: 0.5831\n",
            "Epoch 20/50\n",
            "448/448 [==============================] - 38s 84ms/step - loss: 0.9461 - accuracy: 0.6511 - val_loss: 1.1073 - val_accuracy: 0.5861\n",
            "Epoch 21/50\n",
            "448/448 [==============================] - 38s 85ms/step - loss: 0.9217 - accuracy: 0.6642 - val_loss: 1.1077 - val_accuracy: 0.5829\n",
            "Epoch 22/50\n",
            "448/448 [==============================] - 38s 85ms/step - loss: 0.8993 - accuracy: 0.6697 - val_loss: 1.1105 - val_accuracy: 0.5901\n",
            "Epoch 23/50\n",
            "448/448 [==============================] - 38s 86ms/step - loss: 0.8751 - accuracy: 0.6781 - val_loss: 1.1043 - val_accuracy: 0.5903\n",
            "Epoch 24/50\n",
            "448/448 [==============================] - 38s 84ms/step - loss: 0.8527 - accuracy: 0.6877 - val_loss: 1.0952 - val_accuracy: 0.6027\n",
            "Epoch 25/50\n",
            "448/448 [==============================] - 38s 84ms/step - loss: 0.8294 - accuracy: 0.6939 - val_loss: 1.0940 - val_accuracy: 0.5978\n",
            "Epoch 26/50\n",
            "448/448 [==============================] - 39s 86ms/step - loss: 0.8116 - accuracy: 0.7025 - val_loss: 1.0840 - val_accuracy: 0.6053\n",
            "Epoch 27/50\n",
            "448/448 [==============================] - 38s 84ms/step - loss: 0.7883 - accuracy: 0.7095 - val_loss: 1.0821 - val_accuracy: 0.6067\n",
            "Epoch 28/50\n",
            "448/448 [==============================] - 38s 84ms/step - loss: 0.7664 - accuracy: 0.7188 - val_loss: 1.0802 - val_accuracy: 0.6122\n",
            "Epoch 29/50\n",
            "448/448 [==============================] - 37s 84ms/step - loss: 0.7417 - accuracy: 0.7315 - val_loss: 1.0943 - val_accuracy: 0.6046\n",
            "Epoch 30/50\n",
            "448/448 [==============================] - 38s 84ms/step - loss: 0.7180 - accuracy: 0.7398 - val_loss: 1.0859 - val_accuracy: 0.6094\n",
            "Epoch 31/50\n",
            "448/448 [==============================] - 38s 85ms/step - loss: 0.6956 - accuracy: 0.7439 - val_loss: 1.0897 - val_accuracy: 0.6133\n",
            "Epoch 32/50\n",
            "448/448 [==============================] - 38s 85ms/step - loss: 0.6683 - accuracy: 0.7549 - val_loss: 1.1026 - val_accuracy: 0.6092\n",
            "Epoch 33/50\n",
            "448/448 [==============================] - 38s 85ms/step - loss: 0.6497 - accuracy: 0.7658 - val_loss: 1.0980 - val_accuracy: 0.6155\n",
            "Epoch 34/50\n",
            "448/448 [==============================] - 39s 88ms/step - loss: 0.6339 - accuracy: 0.7712 - val_loss: 1.1286 - val_accuracy: 0.6129\n",
            "Epoch 35/50\n",
            "448/448 [==============================] - 38s 85ms/step - loss: 0.6086 - accuracy: 0.7750 - val_loss: 1.1130 - val_accuracy: 0.6140\n",
            "Epoch 36/50\n",
            "448/448 [==============================] - 38s 86ms/step - loss: 0.5879 - accuracy: 0.7872 - val_loss: 1.1251 - val_accuracy: 0.6172\n",
            "Epoch 37/50\n",
            "448/448 [==============================] - 38s 85ms/step - loss: 0.5704 - accuracy: 0.7932 - val_loss: 1.1265 - val_accuracy: 0.6201\n",
            "Epoch 38/50\n",
            "448/448 [==============================] - 38s 85ms/step - loss: 0.5531 - accuracy: 0.8010 - val_loss: 1.1196 - val_accuracy: 0.6201\n",
            "Epoch 39/50\n",
            "448/448 [==============================] - 38s 84ms/step - loss: 0.5336 - accuracy: 0.8058 - val_loss: 1.1554 - val_accuracy: 0.6131\n",
            "Epoch 40/50\n",
            "448/448 [==============================] - 38s 85ms/step - loss: 0.5146 - accuracy: 0.8135 - val_loss: 1.1658 - val_accuracy: 0.6158\n",
            "Epoch 41/50\n",
            "448/448 [==============================] - 38s 84ms/step - loss: 0.5046 - accuracy: 0.8190 - val_loss: 1.1657 - val_accuracy: 0.6212\n",
            "Epoch 42/50\n",
            "448/448 [==============================] - 39s 87ms/step - loss: 0.4809 - accuracy: 0.8249 - val_loss: 1.1601 - val_accuracy: 0.6169\n",
            "Epoch 43/50\n",
            "448/448 [==============================] - 37s 84ms/step - loss: 0.4596 - accuracy: 0.8344 - val_loss: 1.1985 - val_accuracy: 0.6193\n",
            "Epoch 44/50\n",
            "448/448 [==============================] - 38s 85ms/step - loss: 0.4490 - accuracy: 0.8389 - val_loss: 1.1855 - val_accuracy: 0.6180\n",
            "Epoch 45/50\n",
            "448/448 [==============================] - 37s 83ms/step - loss: 0.4315 - accuracy: 0.8434 - val_loss: 1.1644 - val_accuracy: 0.6214\n",
            "Epoch 46/50\n",
            "448/448 [==============================] - 37s 84ms/step - loss: 0.4216 - accuracy: 0.8489 - val_loss: 1.1995 - val_accuracy: 0.6170\n",
            "Epoch 47/50\n",
            "448/448 [==============================] - 37s 83ms/step - loss: 0.4047 - accuracy: 0.8538 - val_loss: 1.2209 - val_accuracy: 0.6168\n",
            "Epoch 48/50\n",
            "448/448 [==============================] - 37s 83ms/step - loss: 0.3998 - accuracy: 0.8561 - val_loss: 1.2068 - val_accuracy: 0.6207\n",
            "Epoch 49/50\n",
            "448/448 [==============================] - 37s 83ms/step - loss: 0.3859 - accuracy: 0.8604 - val_loss: 1.2171 - val_accuracy: 0.6218\n",
            "Epoch 50/50\n",
            "448/448 [==============================] - 38s 86ms/step - loss: 0.3754 - accuracy: 0.8661 - val_loss: 1.2302 - val_accuracy: 0.6214\n"
          ],
          "name": "stdout"
        },
        {
          "output_type": "stream",
          "text": [
            "/usr/local/lib/python3.6/dist-packages/ipykernel_launcher.py:28: MatplotlibDeprecationWarning: Passing the minor parameter of set_xticks() positionally is deprecated since Matplotlib 3.2; the parameter will become keyword-only two minor releases later.\n",
            "/usr/local/lib/python3.6/dist-packages/ipykernel_launcher.py:36: MatplotlibDeprecationWarning: Passing the minor parameter of set_xticks() positionally is deprecated since Matplotlib 3.2; the parameter will become keyword-only two minor releases later.\n"
          ],
          "name": "stderr"
        },
        {
          "output_type": "display_data",
          "data": {
            "image/png": "[encoded data removed]",
            "text/plain": [
              "<Figure size 1080x360 with 2 Axes>"
            ]
          },
          "metadata": {
            "tags": [],
            "needs_background": "light"
          }
        }
      ]
    }
  ]
}